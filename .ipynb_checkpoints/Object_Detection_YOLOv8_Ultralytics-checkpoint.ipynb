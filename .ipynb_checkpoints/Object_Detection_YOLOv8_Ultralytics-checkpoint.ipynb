{
 "cells": [
  {
   "cell_type": "markdown",
   "id": "23308e3f-3600-4aea-a803-1d00de9f4c10",
   "metadata": {},
   "source": [
    "# Object Detection"
   ]
  },
  {
   "cell_type": "markdown",
   "id": "1c9b5fc3-52ee-4df7-b943-98b6afe51be4",
   "metadata": {},
   "source": [
    "## Modèles n°1 : YOLOv8 (Ultralytics)"
   ]
  },
  {
   "cell_type": "code",
   "execution_count": 1,
   "id": "6797abe7-0c35-40de-b2e0-8f28d5f757be",
   "metadata": {},
   "outputs": [],
   "source": [
    "from ultralytics import YOLO\n",
    "import cv2\n",
    "import matplotlib.pyplot as plt\n",
    "import time"
   ]
  },
  {
   "cell_type": "code",
   "execution_count": 2,
   "id": "52414d12-3fbd-4430-9fd7-a05c9bf2c3a6",
   "metadata": {},
   "outputs": [],
   "source": [
    "# Fonction pour afficher une image avec des objets détectés\n",
    "def display_image(image, title=\"Image\"):\n",
    "    \"\"\" Afficher l'image avec un titre et sans axes. \"\"\"\n",
    "    plt.imshow(image)\n",
    "    plt.title(title)\n",
    "    plt.axis('off')  # Enlever les axes\n",
    "    plt.show()"
   ]
  },
  {
   "cell_type": "code",
   "execution_count": null,
   "id": "77b4356e-9552-4318-97b2-41807faffd47",
   "metadata": {},
   "outputs": [
    {
     "name": "stdout",
     "output_type": "stream",
     "text": [
      "\n",
      "0: 480x640 1 bicycle, 1 car, 1 truck, 1 dog, 84.3ms\n",
      "Speed: 3.6ms preprocess, 84.3ms inference, 1.8ms postprocess per image at shape (1, 3, 480, 640)\n"
     ]
    }
   ],
   "source": [
    "# Charger le modèle YOLOv8\n",
    "model = YOLO(\"yolov8n.pt\")\n",
    "\n",
    "# Charger l'image d'entrée\n",
    "image_path = \"image_1.jpg\"\n",
    "image = cv2.imread(image_path)\n",
    "\n",
    "# Sauvegarde de l'image originale pour affichage\n",
    "original_image = cv2.cvtColor(image.copy(), cv2.COLOR_BGR2RGB)\n",
    "\n",
    "# Calcul du temps de traitement\n",
    "start_time = time.time()\n",
    "\n",
    "# Faire la prédiction\n",
    "results = model(image)\n",
    "\n",
    "# Calcul du temps écoulé pour la prédiction\n",
    "end_time = time.time()\n",
    "elapsed_time = end_time - start_time\n",
    "\n",
    "# Dessiner les boîtes sur l'image\n",
    "for r in results:\n",
    "    for box in r.boxes:\n",
    "        x1, y1, x2, y2 = map(int, box.xyxy[0])  # Coordonnées de la boîte\n",
    "        conf = float(box.conf[0])  # Confiance\n",
    "        label = model.names[int(box.cls[0])]  # Nom de l'objet\n",
    "\n",
    "        # Dessiner la boîte\n",
    "        cv2.rectangle(image, (x1, y1), (x2, y2), (0, 255, 0), 2)\n",
    "        cv2.putText(image, f\"{label} {conf:.2f}\", (x1, y1 - 10),\n",
    "                    cv2.FONT_HERSHEY_SIMPLEX, 0.5, (0, 255, 0), 2)\n",
    "\n",
    "# Convertir l'image modifiée en format RGB pour Matplotlib\n",
    "detected_image = cv2.cvtColor(image, cv2.COLOR_BGR2RGB)\n",
    "\n",
    "# Afficher les résultats\n",
    "fig, ax = plt.subplots(1, 2, figsize=(12, 6))\n",
    "\n",
    "# Affichage de l'image originale\n",
    "ax[0].imshow(original_image)\n",
    "ax[0].set_title(\"Image d'entrée\")\n",
    "ax[0].axis(\"off\")\n",
    "\n",
    "# Affichage de l'image avec détection\n",
    "ax[1].imshow(detected_image)\n",
    "ax[1].set_title(f\"Détection d'objets (YOLOv8)\\nTemps: {elapsed_time:.2f}s\")\n",
    "ax[1].axis(\"off\")\n",
    "\n",
    "# Afficher les deux images\n",
    "plt.show()\n",
    "\n",
    "# Sauvegarde de l'image modifiée\n",
    "output_path = \"output_detected_image.jpg\"\n",
    "cv2.imwrite(output_path, cv2.cvtColor(detected_image, cv2.COLOR_RGB2BGR))\n",
    "print(f\"L'image avec les objets détectés a été sauvegardée sous {output_path}.\")"
   ]
  },
  {
   "cell_type": "code",
   "execution_count": null,
   "id": "118080a3-8d0f-4653-8e75-daf8aaac44ed",
   "metadata": {},
   "outputs": [],
   "source": []
  }
 ],
 "metadata": {
  "kernelspec": {
   "display_name": "Python 3 (ipykernel)",
   "language": "python",
   "name": "python3"
  },
  "language_info": {
   "codemirror_mode": {
    "name": "ipython",
    "version": 3
   },
   "file_extension": ".py",
   "mimetype": "text/x-python",
   "name": "python",
   "nbconvert_exporter": "python",
   "pygments_lexer": "ipython3",
   "version": "3.12.7"
  }
 },
 "nbformat": 4,
 "nbformat_minor": 5
}
